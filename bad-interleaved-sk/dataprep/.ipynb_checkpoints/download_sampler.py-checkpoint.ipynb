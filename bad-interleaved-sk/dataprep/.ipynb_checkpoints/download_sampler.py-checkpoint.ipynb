{
 "cells": [
  {
   "cell_type": "code",
   "execution_count": 12,
   "metadata": {
    "collapsed": true
   },
   "outputs": [],
   "source": [
    "import json\n",
    "import boto3 \n",
    "from pprint import pprint "
   ]
  },
  {
   "cell_type": "code",
   "execution_count": 4,
   "metadata": {
    "collapsed": true
   },
   "outputs": [],
   "source": [
    "raw_data_urls_file = \"raw_dataurls.json\""
   ]
  },
  {
   "cell_type": "code",
   "execution_count": 5,
   "metadata": {
    "collapsed": true
   },
   "outputs": [],
   "source": [
    "raw_data_urls = json.load(open(raw_data_urls_file))"
   ]
  },
  {
   "cell_type": "code",
   "execution_count": 11,
   "metadata": {},
   "outputs": [
    {
     "name": "stdout",
     "output_type": "stream",
     "text": [
      "2\n",
      "nyc-tlc\n",
      "trip data/yellow_tripdata_2009-01.csv\n"
     ]
    }
   ],
   "source": [
    "print len(raw_data_urls['rawdatafiles'])\n",
    "print (raw_data_urls['rawdatafiles'][0]['raw_data_s3_bkt'])\n",
    "print (raw_data_urls['rawdatafiles'][0]['raw_data_s3_object'])"
   ]
  },
  {
   "cell_type": "code",
   "execution_count": 17,
   "metadata": {},
   "outputs": [
    {
     "name": "stdout",
     "output_type": "stream",
     "text": [
      "[{u'ETag': '\"cad24212ad641ac45de33ef6fac0df40-38\"',\n",
      "  u'Key': u'trip data/yellow_tripdata_2009-01.csv',\n",
      "  u'LastModified': datetime.datetime(2016, 8, 12, 15, 4, 4, tzinfo=tzlocal()),\n",
      "  u'Owner': {u'DisplayName': 'research',\n",
      "             u'ID': '418251095389ec36f4cc533b768d7363d30d0d38f95cde3867c204468c39861d'},\n",
      "  u'Size': 2538104764,\n",
      "  u'StorageClass': 'STANDARD'}]\n"
     ]
    }
   ],
   "source": [
    "s3 = boto3.client('s3')\n",
    "objs = s3.list_objects(Bucket = raw_data_urls['rawdatafiles'][0]['raw_data_s3_bkt']\n",
    "               , Prefix = raw_data_urls['rawdatafiles'][0]['raw_data_s3_object'] )\n",
    "\n",
    "pprint(objs['Contents'])"
   ]
  },
  {
   "cell_type": "markdown",
   "metadata": {},
   "source": [
    "####### Continue the program to download each raw file and then sample the file using pandas to save on the disks\n",
    "http://boto3.readthedocs.io/en/latest/reference/services/s3.html#client\n"
   ]
  }
 ],
 "metadata": {
  "kernelspec": {
   "display_name": "Python 2",
   "language": "python",
   "name": "python2"
  },
  "language_info": {
   "codemirror_mode": {
    "name": "ipython",
    "version": 2
   },
   "file_extension": ".py",
   "mimetype": "text/x-python",
   "name": "python",
   "nbconvert_exporter": "python",
   "pygments_lexer": "ipython2",
   "version": "2.7.14"
  }
 },
 "nbformat": 4,
 "nbformat_minor": 2
}
